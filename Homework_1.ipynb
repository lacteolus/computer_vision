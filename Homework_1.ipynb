{
  "nbformat": 4,
  "nbformat_minor": 0,
  "metadata": {
    "colab": {
      "provenance": [],
      "include_colab_link": true
    },
    "kernelspec": {
      "name": "python3",
      "display_name": "Python 3"
    },
    "language_info": {
      "name": "python"
    }
  },
  "cells": [
    {
      "cell_type": "markdown",
      "metadata": {
        "id": "view-in-github",
        "colab_type": "text"
      },
      "source": [
        "<a href=\"https://colab.research.google.com/github/lacteolus/computer_vision/blob/master/Homework_1.ipynb\" target=\"_parent\"><img src=\"https://colab.research.google.com/assets/colab-badge.svg\" alt=\"Open In Colab\"/></a>"
      ]
    },
    {
      "cell_type": "markdown",
      "source": [
        "# Домашнее задание №1\n",
        "Дедлайн: **23:59 27.02.2023**\n",
        "\n",
        "По вопросам: https://t.me/dl_hello\n",
        "\n",
        "После выполнения задания вам нужно загрузить ссылку на свой решённый ноутбук на Skillspace. \n",
        "\n",
        "**Не забудьте** сделать данный ноутбук публичным! Для этого нажмите на кнопку \"Поделиться\" справа вверху окна, а затем смените \"Доступ ограничен\" на \"Все, у кого есть ссылка\".\n",
        "\n",
        "Старайтесь отображать промежуточные результаты.\n",
        "\n",
        "При проверке ваш ноутбук будет запускаться целиком с нуля!!! Удостовертесь, чтобы он работал без дополнительных усилий!"
      ],
      "metadata": {
        "id": "8TVNOnybbqXl"
      }
    },
    {
      "cell_type": "markdown",
      "source": [
        "# Задание 1 (2 балла)\n",
        "\n",
        "Используя изображение из семинара, дайте оценку кол-ва чёрных точек на нём."
      ],
      "metadata": {
        "id": "N2jMwH48pAjY"
      }
    },
    {
      "cell_type": "code",
      "source": [
        "# скачиваем изображение\n",
        "!gdown 1fjUxctXObC9hStlCeZB8huvQU9xdzpMY"
      ],
      "metadata": {
        "id": "ZeBf0noIpmLD"
      },
      "execution_count": null,
      "outputs": []
    },
    {
      "cell_type": "code",
      "source": [
        "########## Здесь ваш код ##########"
      ],
      "metadata": {
        "id": "kxYutDKVprCk"
      },
      "execution_count": null,
      "outputs": []
    },
    {
      "cell_type": "markdown",
      "source": [
        "# Задание 2 (4 балла)\n",
        "\n",
        "Вам дан набор изображений с окружностями на них. Ваша задача - подсчитать их кол-во на каждом изображении. \n",
        "\n",
        "**Внимание**: чтобы данное задание считалось решённым, достаточно подсчитать окружности в папках 'simple' и 'normal'. Если вы решите задачу и для изображений в папке 'hard' вам будут зачтены дополнительные баллы."
      ],
      "metadata": {
        "id": "AoYqAh1lpw3A"
      }
    },
    {
      "cell_type": "code",
      "source": [
        "!gdown 1JH6-X_zsVf3jWN_7-eUtRbtAqp4CLTvl\n",
        "!unzip -q circles.zip"
      ],
      "metadata": {
        "id": "gMc0VMgat3uj"
      },
      "execution_count": null,
      "outputs": []
    },
    {
      "cell_type": "code",
      "source": [
        "########## Здесь ваш код ##########"
      ],
      "metadata": {
        "id": "WNAEHl0Wt67l"
      },
      "execution_count": null,
      "outputs": []
    },
    {
      "cell_type": "markdown",
      "source": [
        "# Задание 3 (4 балла)\n",
        "Вам даны три изображения с автомобильными номерами, попробуйте выделить на них непосредственно сами номерные знаки. Результат - непосредственно сам номерной знак во всю ширину и длину изображения.\n",
        "\n",
        "В качестве дополнительного задания (за дополнительные баллы) вы можете попробовать распознать номера на изображении (путём анализа контура симоволов)."
      ],
      "metadata": {
        "id": "bbSvnqmGr_Q5"
      }
    },
    {
      "cell_type": "code",
      "source": [
        "!gdown 1B0KDOzPl_97D0UWSyYXuNr-2RuP5Yy3E\n",
        "!gdown 1N0w-sPXdRKJQb_-81MzozyihdSYvDN3w\n",
        "!gdown  1ZubVK85WXOkYl4bqZDsXKKMLqHjAm3uS"
      ],
      "metadata": {
        "id": "Hwg-1Q-nsBya"
      },
      "execution_count": null,
      "outputs": []
    }
  ]
}